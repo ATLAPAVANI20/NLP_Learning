{
 "cells": [
  {
   "cell_type": "code",
   "execution_count": 34,
   "id": "25151833",
   "metadata": {},
   "outputs": [],
   "source": [
    "import pandas as pd\n",
    "import numpy as np\n",
    "import seaborn as sns"
   ]
  },
  {
   "cell_type": "code",
   "execution_count": null,
   "id": "0aeef171",
   "metadata": {},
   "outputs": [],
   "source": [
    "data =pd.read_csv(\"C:/Users/pavania/Desktop/python learn/ethnic diversity.csv\")"
   ]
  },
  {
   "cell_type": "code",
   "execution_count": null,
   "id": "a6c356b4",
   "metadata": {},
   "outputs": [],
   "source": [
    "data.dtypes\n",
    "# help(data.astype) refer to conve"
   ]
  },
  {
   "cell_type": "code",
   "execution_count": null,
   "id": "40551eed",
   "metadata": {},
   "outputs": [],
   "source": [
    "# data.Salaries= data.Salaries.astype('int64')\n",
    "# data.dtypes\n",
    "data['Salaries']= data['Salaries'].astype('int64')\n",
    "data.dtypes\n"
   ]
  },
  {
   "cell_type": "code",
   "execution_count": null,
   "id": "e266796c",
   "metadata": {},
   "outputs": [],
   "source": [
    "data.age= data.age.astype('float32')\n",
    "data.dtypes"
   ]
  },
  {
   "cell_type": "code",
   "execution_count": null,
   "id": "a95502e8",
   "metadata": {},
   "outputs": [],
   "source": [
    "### Identify duplicates records in the data ###\n",
    "data=pd.read_csv('C:/Users/pavania/Desktop/python learn/mtcars_dup.csv')\n",
    "data"
   ]
  },
  {
   "cell_type": "code",
   "execution_count": null,
   "id": "ad4cbf4a",
   "metadata": {},
   "outputs": [],
   "source": [
    "duplicate=data.drop_duplicates()\n",
    "duplicate"
   ]
  },
  {
   "cell_type": "code",
   "execution_count": 33,
   "id": "89809075",
   "metadata": {},
   "outputs": [],
   "source": [
    "df=pd.read_csv('C:/Users/pavania/Desktop/python learn/ethnic diversity.csv')"
   ]
  },
  {
   "cell_type": "code",
   "execution_count": 36,
   "id": "2835ce38",
   "metadata": {},
   "outputs": [
    {
     "name": "stderr",
     "output_type": "stream",
     "text": [
      "C:\\Users\\pavania\\Anaconda3\\lib\\site-packages\\seaborn\\_decorators.py:36: FutureWarning: Pass the following variable as a keyword arg: x. From version 0.12, the only valid positional argument will be `data`, and passing other arguments without an explicit keyword will result in an error or misinterpretation.\n",
      "  warnings.warn(\n"
     ]
    },
    {
     "data": {
      "text/plain": [
       "<AxesSubplot:xlabel='Salaries'>"
      ]
     },
     "execution_count": 36,
     "metadata": {},
     "output_type": "execute_result"
    },
    {
     "data": {
      "image/png": "[encoded data removed]",
      "text/plain": [
       "<Figure size 432x288 with 1 Axes>"
      ]
     },
     "metadata": {
      "needs_background": "light"
     },
     "output_type": "display_data"
    }
   ],
   "source": [
    "#let find outliners in salaries\n",
    "sns.boxplot(df.Salaries)"
   ]
  },
  {
   "cell_type": "code",
   "execution_count": 37,
   "id": "cf6ad2bc",
   "metadata": {},
   "outputs": [
    {
     "data": {
      "text/plain": [
       "28359.945"
      ]
     },
     "execution_count": 37,
     "metadata": {},
     "output_type": "execute_result"
    }
   ],
   "source": [
    "#DETECTION OF OUTLINER\n",
    "IQR=df['Salaries'].quantile(0.75)-df['Salaries'].quantile(0.25)\n",
    "IQR"
   ]
  },
  {
   "cell_type": "code",
   "execution_count": 38,
   "id": "1a115aeb",
   "metadata": {},
   "outputs": [],
   "source": [
    "lower_limit = df['Salaries'].quantile(0.25) - (IQR * 1.5)\n",
    "upper_limit = df['Salaries'].quantile(0.75) + (IQR * 1.5)"
   ]
  },
  {
   "cell_type": "code",
   "execution_count": 39,
   "id": "bbb9df48",
   "metadata": {},
   "outputs": [
    {
     "data": {
      "text/plain": [
       "((310, 13), (306, 13))"
      ]
     },
     "execution_count": 39,
     "metadata": {},
     "output_type": "execute_result"
    }
   ],
   "source": [
    "# TRIMMING TECH LETS FLAG THE OUTLINER IN THE DATASET\n",
    "outliers_df = np.where(df['Salaries'] > upper_limit, True, np.where(df['Salaries'] < lower_limit, True, False))\n",
    "df_trimmed = df.loc[~(outliers_df), ]\n",
    "df.shape, df_trimmed.shape"
   ]
  },
  {
   "cell_type": "code",
   "execution_count": 44,
   "id": "16b60027",
   "metadata": {},
   "outputs": [
    {
     "data": {
      "text/plain": [
       "<AxesSubplot:xlabel='Salaries'>"
      ]
     },
     "execution_count": 44,
     "metadata": {},
     "output_type": "execute_result"
    },
    {
     "data": {
      "image/png": "[encoded data removed]",
      "text/plain": [
       "<Figure size 432x288 with 1 Axes>"
      ]
     },
     "metadata": {
      "needs_background": "light"
     },
     "output_type": "display_data"
    }
   ],
   "source": [
    "sns.boxplot(df_trimmed.Salaries)"
   ]
  },
  {
   "cell_type": "code",
   "execution_count": null,
   "id": "7b3fb823",
   "metadata": {},
   "outputs": [],
   "source": []
  }
 ],
 "metadata": {
  "kernelspec": {
   "display_name": "Python 3 (ipykernel)",
   "language": "python",
   "name": "python3"
  },
  "language_info": {
   "codemirror_mode": {
    "name": "ipython",
    "version": 3
   },
   "file_extension": ".py",
   "mimetype": "text/x-python",
   "name": "python",
   "nbconvert_exporter": "python",
   "pygments_lexer": "ipython3",
   "version": "3.9.7"
  }
 },
 "nbformat": 4,
 "nbformat_minor": 5
}
