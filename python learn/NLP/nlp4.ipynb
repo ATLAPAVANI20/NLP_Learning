{
 "cells": [
  {
   "cell_type": "code",
   "execution_count": 2,
   "id": "d22338b8",
   "metadata": {},
   "outputs": [],
   "source": [
    "import pandas as pd\n",
    "from sklearn.feature_extraction.text import CountVectorizer"
   ]
  },
  {
   "cell_type": "code",
   "execution_count": 3,
   "id": "71862ae1",
   "metadata": {},
   "outputs": [],
   "source": [
    "corpus = [\n",
    "    'Data science is overlap between arts and science.',\n",
    "    'easy to learn ',\n",
    "    'nlp is a part of data science'\n",
    "    \n",
    "]"
   ]
  },
  {
   "cell_type": "code",
   "execution_count": 4,
   "id": "17ce9329",
   "metadata": {},
   "outputs": [
    {
     "name": "stdout",
     "output_type": "stream",
     "text": [
      "[[1 1 1 1 0 1 0 0 0 1 0 2 0]\n",
      " [0 0 0 0 1 0 1 0 0 0 0 0 1]\n",
      " [0 0 0 1 0 1 0 1 1 0 1 1 0]]\n"
     ]
    }
   ],
   "source": [
    "bag_of_words_model = CountVectorizer()\n",
    "print(bag_of_words_model.fit_transform(corpus).todense())\n"
   ]
  },
  {
   "cell_type": "code",
   "execution_count": 6,
   "id": "a1047b1f",
   "metadata": {},
   "outputs": [
    {
     "data": {
      "text/html": [
       "<div>\n",
       "<style scoped>\n",
       "    .dataframe tbody tr th:only-of-type {\n",
       "        vertical-align: middle;\n",
       "    }\n",
       "\n",
       "    .dataframe tbody tr th {\n",
       "        vertical-align: top;\n",
       "    }\n",
       "\n",
       "    .dataframe thead th {\n",
       "        text-align: right;\n",
       "    }\n",
       "</style>\n",
       "<table border=\"1\" class=\"dataframe\">\n",
       "  <thead>\n",
       "    <tr style=\"text-align: right;\">\n",
       "      <th></th>\n",
       "      <th>and</th>\n",
       "      <th>arts</th>\n",
       "      <th>between</th>\n",
       "      <th>data</th>\n",
       "      <th>easy</th>\n",
       "      <th>is</th>\n",
       "      <th>learn</th>\n",
       "      <th>nlp</th>\n",
       "      <th>of</th>\n",
       "      <th>overlap</th>\n",
       "      <th>part</th>\n",
       "      <th>science</th>\n",
       "      <th>to</th>\n",
       "    </tr>\n",
       "  </thead>\n",
       "  <tbody>\n",
       "    <tr>\n",
       "      <th>0</th>\n",
       "      <td>1</td>\n",
       "      <td>1</td>\n",
       "      <td>1</td>\n",
       "      <td>1</td>\n",
       "      <td>0</td>\n",
       "      <td>1</td>\n",
       "      <td>0</td>\n",
       "      <td>0</td>\n",
       "      <td>0</td>\n",
       "      <td>1</td>\n",
       "      <td>0</td>\n",
       "      <td>2</td>\n",
       "      <td>0</td>\n",
       "    </tr>\n",
       "    <tr>\n",
       "      <th>1</th>\n",
       "      <td>0</td>\n",
       "      <td>0</td>\n",
       "      <td>0</td>\n",
       "      <td>0</td>\n",
       "      <td>1</td>\n",
       "      <td>0</td>\n",
       "      <td>1</td>\n",
       "      <td>0</td>\n",
       "      <td>0</td>\n",
       "      <td>0</td>\n",
       "      <td>0</td>\n",
       "      <td>0</td>\n",
       "      <td>1</td>\n",
       "    </tr>\n",
       "    <tr>\n",
       "      <th>2</th>\n",
       "      <td>0</td>\n",
       "      <td>0</td>\n",
       "      <td>0</td>\n",
       "      <td>1</td>\n",
       "      <td>0</td>\n",
       "      <td>1</td>\n",
       "      <td>0</td>\n",
       "      <td>1</td>\n",
       "      <td>1</td>\n",
       "      <td>0</td>\n",
       "      <td>1</td>\n",
       "      <td>1</td>\n",
       "      <td>0</td>\n",
       "    </tr>\n",
       "  </tbody>\n",
       "</table>\n",
       "</div>"
      ],
      "text/plain": [
       "   and  arts  between  data  easy  is  learn  nlp  of  overlap  part  science  \\\n",
       "0    1     1        1     1     0   1      0    0   0        1     0        2   \n",
       "1    0     0        0     0     1   0      1    0   0        0     0        0   \n",
       "2    0     0        0     1     0   1      0    1   1        0     1        1   \n",
       "\n",
       "   to  \n",
       "0   0  \n",
       "1   1  \n",
       "2   0  "
      ]
     },
     "execution_count": 6,
     "metadata": {},
     "output_type": "execute_result"
    }
   ],
   "source": [
    "bag_of_word_df = pd.DataFrame(bag_of_words_model.fit_transform(corpus).todense())\n",
    "bag_of_word_df.columns = sorted(bag_of_words_model.vocabulary_)\n",
    "bag_of_word_df.head()"
   ]
  },
  {
   "cell_type": "code",
   "execution_count": 8,
   "id": "7e4b5722",
   "metadata": {},
   "outputs": [
    {
     "data": {
      "text/html": [
       "<div>\n",
       "<style scoped>\n",
       "    .dataframe tbody tr th:only-of-type {\n",
       "        vertical-align: middle;\n",
       "    }\n",
       "\n",
       "    .dataframe tbody tr th {\n",
       "        vertical-align: top;\n",
       "    }\n",
       "\n",
       "    .dataframe thead th {\n",
       "        text-align: right;\n",
       "    }\n",
       "</style>\n",
       "<table border=\"1\" class=\"dataframe\">\n",
       "  <thead>\n",
       "    <tr style=\"text-align: right;\">\n",
       "      <th></th>\n",
       "      <th>and</th>\n",
       "      <th>arts</th>\n",
       "      <th>between</th>\n",
       "      <th>data</th>\n",
       "      <th>easy</th>\n",
       "      <th>is</th>\n",
       "      <th>learn</th>\n",
       "      <th>nlp</th>\n",
       "      <th>of</th>\n",
       "      <th>overlap</th>\n",
       "      <th>part</th>\n",
       "      <th>science</th>\n",
       "      <th>to</th>\n",
       "    </tr>\n",
       "  </thead>\n",
       "  <tbody>\n",
       "    <tr>\n",
       "      <th>0</th>\n",
       "      <td>1</td>\n",
       "      <td>1</td>\n",
       "      <td>1</td>\n",
       "      <td>1</td>\n",
       "      <td>0</td>\n",
       "      <td>1</td>\n",
       "      <td>0</td>\n",
       "      <td>0</td>\n",
       "      <td>0</td>\n",
       "      <td>1</td>\n",
       "      <td>0</td>\n",
       "      <td>2</td>\n",
       "      <td>0</td>\n",
       "    </tr>\n",
       "    <tr>\n",
       "      <th>1</th>\n",
       "      <td>0</td>\n",
       "      <td>0</td>\n",
       "      <td>0</td>\n",
       "      <td>0</td>\n",
       "      <td>1</td>\n",
       "      <td>0</td>\n",
       "      <td>1</td>\n",
       "      <td>0</td>\n",
       "      <td>0</td>\n",
       "      <td>0</td>\n",
       "      <td>0</td>\n",
       "      <td>0</td>\n",
       "      <td>1</td>\n",
       "    </tr>\n",
       "    <tr>\n",
       "      <th>2</th>\n",
       "      <td>0</td>\n",
       "      <td>0</td>\n",
       "      <td>0</td>\n",
       "      <td>1</td>\n",
       "      <td>0</td>\n",
       "      <td>1</td>\n",
       "      <td>0</td>\n",
       "      <td>1</td>\n",
       "      <td>1</td>\n",
       "      <td>0</td>\n",
       "      <td>1</td>\n",
       "      <td>1</td>\n",
       "      <td>0</td>\n",
       "    </tr>\n",
       "  </tbody>\n",
       "</table>\n",
       "</div>"
      ],
      "text/plain": [
       "   and  arts  between  data  easy  is  learn  nlp  of  overlap  part  science  \\\n",
       "0    1     1        1     1     0   1      0    0   0        1     0        2   \n",
       "1    0     0        0     0     1   0      1    0   0        0     0        0   \n",
       "2    0     0        0     1     0   1      0    1   1        0     1        1   \n",
       "\n",
       "   to  \n",
       "0   0  \n",
       "1   1  \n",
       "2   0  "
      ]
     },
     "execution_count": 8,
     "metadata": {},
     "output_type": "execute_result"
    }
   ],
   "source": [
    "bag_of_words_small = CountVectorizer(max_features = 10)\n",
    "bag_of_word_small = pd.DataFrame(bag_of_words_small.fit_transform(corpus).todense())\n",
    "bag_of_word_df.columns = sorted(bag_of_words_model.vocabulary_)\n",
    "bag_of_word_df.head()"
   ]
  },
  {
   "cell_type": "code",
   "execution_count": 15,
   "id": "d2e0e70d",
   "metadata": {},
   "outputs": [
    {
     "name": "stdout",
     "output_type": "stream",
     "text": [
      "Requirement already satisfied: sklearn in c:\\users\\pavania\\anaconda3\\envs\\nlp_learning\\lib\\site-packages (0.0)\n",
      "Requirement already satisfied: scikit-learn in c:\\users\\pavania\\anaconda3\\envs\\nlp_learning\\lib\\site-packages (from sklearn) (1.1.1)\n",
      "Requirement already satisfied: joblib>=1.0.0 in c:\\users\\pavania\\anaconda3\\envs\\nlp_learning\\lib\\site-packages (from scikit-learn->sklearn) (1.1.0)\n",
      "Requirement already satisfied: scipy>=1.3.2 in c:\\users\\pavania\\anaconda3\\envs\\nlp_learning\\lib\\site-packages (from scikit-learn->sklearn) (1.8.1)\n",
      "Requirement already satisfied: threadpoolctl>=2.0.0 in c:\\users\\pavania\\anaconda3\\envs\\nlp_learning\\lib\\site-packages (from scikit-learn->sklearn) (3.1.0)\n",
      "Requirement already satisfied: numpy>=1.17.3 in c:\\users\\pavania\\anaconda3\\envs\\nlp_learning\\lib\\site-packages (from scikit-learn->sklearn) (1.23.1)\n",
      "Requirement already satisfied: matplotlib in c:\\users\\pavania\\anaconda3\\envs\\nlp_learning\\lib\\site-packages (3.5.2)\n",
      "Requirement already satisfied: packaging>=20.0 in c:\\users\\pavania\\anaconda3\\envs\\nlp_learning\\lib\\site-packages (from matplotlib) (21.3)\n",
      "Requirement already satisfied: pillow>=6.2.0 in c:\\users\\pavania\\anaconda3\\envs\\nlp_learning\\lib\\site-packages (from matplotlib) (9.2.0)\n",
      "Requirement already satisfied: pyparsing>=2.2.1 in c:\\users\\pavania\\anaconda3\\envs\\nlp_learning\\lib\\site-packages (from matplotlib) (3.0.4)\n",
      "Requirement already satisfied: numpy>=1.17 in c:\\users\\pavania\\anaconda3\\envs\\nlp_learning\\lib\\site-packages (from matplotlib) (1.23.1)\n",
      "Requirement already satisfied: kiwisolver>=1.0.1 in c:\\users\\pavania\\anaconda3\\envs\\nlp_learning\\lib\\site-packages (from matplotlib) (1.4.4)\n",
      "Requirement already satisfied: cycler>=0.10 in c:\\users\\pavania\\anaconda3\\envs\\nlp_learning\\lib\\site-packages (from matplotlib) (0.11.0)\n",
      "Requirement already satisfied: python-dateutil>=2.7 in c:\\users\\pavania\\anaconda3\\envs\\nlp_learning\\lib\\site-packages (from matplotlib) (2.8.2)\n",
      "Requirement already satisfied: fonttools>=4.22.0 in c:\\users\\pavania\\anaconda3\\envs\\nlp_learning\\lib\\site-packages (from matplotlib) (4.34.4)\n",
      "Requirement already satisfied: six>=1.5 in c:\\users\\pavania\\anaconda3\\envs\\nlp_learning\\lib\\site-packages (from python-dateutil>=2.7->matplotlib) (1.16.0)\n",
      "showing info https://raw.githubusercontent.com/nltk/nltk_data/gh-pages/index.xml\n"
     ]
    },
    {
     "name": "stderr",
     "output_type": "stream",
     "text": [
      "[nltk_data] Error loading stopword: Package 'stopword' not found in\n",
      "[nltk_data]     index\n"
     ]
    },
    {
     "name": "stdout",
     "output_type": "stream",
     "text": [
      "Requirement already satisfied: matplotlib in c:\\users\\pavania\\anaconda3\\envs\\nlp_learning\\lib\\site-packages (3.5.2)\n",
      "Requirement already satisfied: python-dateutil>=2.7 in c:\\users\\pavania\\anaconda3\\envs\\nlp_learning\\lib\\site-packages (from matplotlib) (2.8.2)\n",
      "Requirement already satisfied: numpy>=1.17 in c:\\users\\pavania\\anaconda3\\envs\\nlp_learning\\lib\\site-packages (from matplotlib) (1.23.1)\n",
      "Requirement already satisfied: fonttools>=4.22.0 in c:\\users\\pavania\\anaconda3\\envs\\nlp_learning\\lib\\site-packages (from matplotlib) (4.34.4)\n",
      "Requirement already satisfied: packaging>=20.0 in c:\\users\\pavania\\anaconda3\\envs\\nlp_learning\\lib\\site-packages (from matplotlib) (21.3)\n",
      "Requirement already satisfied: cycler>=0.10 in c:\\users\\pavania\\anaconda3\\envs\\nlp_learning\\lib\\site-packages (from matplotlib) (0.11.0)\n",
      "Requirement already satisfied: pyparsing>=2.2.1 in c:\\users\\pavania\\anaconda3\\envs\\nlp_learning\\lib\\site-packages (from matplotlib) (3.0.4)\n",
      "Requirement already satisfied: kiwisolver>=1.0.1 in c:\\users\\pavania\\anaconda3\\envs\\nlp_learning\\lib\\site-packages (from matplotlib) (1.4.4)\n",
      "Requirement already satisfied: pillow>=6.2.0 in c:\\users\\pavania\\anaconda3\\envs\\nlp_learning\\lib\\site-packages (from matplotlib) (9.2.0)\n",
      "Requirement already satisfied: six>=1.5 in c:\\users\\pavania\\anaconda3\\envs\\nlp_learning\\lib\\site-packages (from python-dateutil>=2.7->matplotlib) (1.16.0)\n"
     ]
    }
   ],
   "source": [
    "!pip install sklearn\n",
    "\n",
    "!pip install matplotlib\n",
    "import nltk\n",
    "nltk.download()\n",
    "from pylab import *\n",
    "import nltk \n",
    "nltk.download('stopword')\n",
    "from sklearn.datasets import fetch_20newsgroups\n",
    "from nltk import word_tokenize\n",
    "from nltk.corpus import stopwords\n",
    "import matplotlib.pyplot as pt\n",
    "%matplotlib inline\n",
    "import re\n",
    "import string\n",
    "from collections import Counter\n",
    "newsgroups_data_sample  = fetch_20newsgroups(subset = 'train' )\n",
    "\n"
   ]
  },
  {
   "cell_type": "code",
   "execution_count": 14,
   "id": "e2e448fa",
   "metadata": {},
   "outputs": [],
   "source": [
    "stop_words  = stopwords.words('english')\n",
    "stop_words = stop_words + list(string.printable)"
   ]
  },
  {
   "cell_type": "code",
   "execution_count": null,
   "id": "d863566c",
   "metadata": {},
   "outputs": [],
   "source": [
    "tokenized_corpus = [word.lower() for sentence in newsgroups_data_sample['data']\\\n",
    "                   for word in word_tokenize(re.sub(r^([^\\s\\w]|_)+',' ', sentence))\\\n",
    "                   if word.lower() not in stop_words]"
   ]
  },
  {
   "cell_type": "code",
   "execution_count": null,
   "id": "e3dc3eea",
   "metadata": {},
   "outputs": [],
   "source": [
    "token_count_di = Counter(tokenized_corpus)"
   ]
  },
  {
   "cell_type": "code",
   "execution_count": null,
   "id": "8e45bd6f",
   "metadata": {},
   "outputs": [],
   "source": [
    "token_count_di.most_common(50)"
   ]
  },
  {
   "cell_type": "code",
   "execution_count": null,
   "id": "a7897e45",
   "metadata": {},
   "outputs": [],
   "source": [
    "freq = [b for (a,b) in token_count_di.most_commom(10000)]\n",
    "tokens = [a for (a,b) in token_count_di.most_commom(1000)]\n",
    "ranks = range(1,len(freq)+1)\n",
    "\n",
    "\n",
    "plt.figure(figsize=(8,8))\n",
    "plt.ylim(1,10**4)\n",
    "ply.xlim(1,10**4)\n",
    "\n",
    "\n",
    "obtained_line, = loglog(ranks,freq,marker=\".\",label = 'line obtained from the text corpus')\n",
    "obtained_legend =plt.legend(handles=[obtained_line], loc=1)\n",
    "ax= plt.gca().add_artist(obtained_legend)\n",
    "\n",
    "\n",
    "expected_line, = plt.plot([1,freq[0]],[freq[0],1],color='r',label=\"line excepted as per zipf's law\")\n",
    "plt.legend(handles=[expected_line],loc=4)\n",
    "\n",
    "\n",
    "\n",
    "title('plot zip law log log scale')\n",
    "xlabel('rank')\n",
    "ylabel('freq')\n",
    "grid(True)\n",
    "\n"
   ]
  },
  {
   "cell_type": "code",
   "execution_count": 15,
   "id": "c8be070b",
   "metadata": {},
   "outputs": [
    {
     "name": "stdout",
     "output_type": "stream",
     "text": [
      "Requirement already satisfied: sklearn in c:\\users\\pavania\\anaconda3\\lib\\site-packages (0.0)\n",
      "Requirement already satisfied: scikit-learn in c:\\users\\pavania\\anaconda3\\lib\\site-packages (from sklearn) (0.24.2)\n",
      "Requirement already satisfied: threadpoolctl>=2.0.0 in c:\\users\\pavania\\anaconda3\\lib\\site-packages (from scikit-learn->sklearn) (2.2.0)\n",
      "Requirement already satisfied: joblib>=0.11 in c:\\users\\pavania\\anaconda3\\lib\\site-packages (from scikit-learn->sklearn) (1.1.0)\n",
      "Requirement already satisfied: numpy>=1.13.3 in c:\\users\\pavania\\anaconda3\\lib\\site-packages (from scikit-learn->sklearn) (1.20.3)\n",
      "Requirement already satisfied: scipy>=0.19.1 in c:\\users\\pavania\\anaconda3\\lib\\site-packages (from scikit-learn->sklearn) (1.7.1)\n"
     ]
    }
   ],
   "source": [
    "!pip install sklearn"
   ]
  },
  {
   "cell_type": "code",
   "execution_count": null,
   "id": "6df4e09e",
   "metadata": {},
   "outputs": [],
   "source": []
  },
  {
   "cell_type": "code",
   "execution_count": null,
   "id": "ba6002d1",
   "metadata": {},
   "outputs": [],
   "source": []
  }
 ],
 "metadata": {
  "kernelspec": {
   "display_name": "Python 3 (ipykernel)",
   "language": "python",
   "name": "python3"
  },
  "language_info": {
   "codemirror_mode": {
    "name": "ipython",
    "version": 3
   },
   "file_extension": ".py",
   "mimetype": "text/x-python",
   "name": "python",
   "nbconvert_exporter": "python",
   "pygments_lexer": "ipython3",
   "version": "3.9.12"
  }
 },
 "nbformat": 4,
 "nbformat_minor": 5
}
